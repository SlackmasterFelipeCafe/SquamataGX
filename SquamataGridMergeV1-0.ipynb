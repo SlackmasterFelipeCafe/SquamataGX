{
 "cells": [
  {
   "cell_type": "markdown",
   "metadata": {},
   "source": [
    "## SquamataGridMerge - Jupyter notebook used for preprocessing Geophysical data to be merged using Intrepid GridMerge and Geosoft Oasis montaj\n",
    "\n",
    "### Created June 17, 2019, contact Phil Brown (pbrown@usgs.gov)\n",
    "\n",
    "This module performs the following operations:\n",
    "- Create list of data files to be processed.\n",
    "- Create Geosoft batch file to reproject and grid data to be merged\n"
   ]
  },
  {
   "cell_type": "code",
   "execution_count": 1,
   "metadata": {},
   "outputs": [
    {
     "name": "stderr",
     "output_type": "stream",
     "text": [
      "C:\\Users\\pbrown\\AppData\\Local\\Continuum\\anacondaNew\\lib\\site-packages\\IPython\\html.py:14: ShimWarning: The `IPython.html` package has been deprecated since IPython 4.0. You should import from `notebook` instead. `IPython.html.widgets` has moved to `ipywidgets`.\n",
      "  \"`IPython.html.widgets` has moved to `ipywidgets`.\", ShimWarning)\n"
     ]
    }
   ],
   "source": [
    "# Load required Libraries\n",
    "import sys\n",
    "import os\n",
    "import zipfile\n",
    "import csv\n",
    "#import pysb\n",
    "import requests\n",
    "import shutil\n",
    "from shutil import copyfile\n",
    "import zipfile\n",
    "import datetime\n",
    "import glob\n",
    "from lxml import etree\n",
    "import json\n",
    "import pickle\n",
    "import shutil\n",
    "import fileinput\n",
    "import json\n",
    "import pandas as pd\n",
    "import numpy as np\n",
    "from IPython.core.display import display\n",
    "from IPython.core.display import HTML\n",
    "from lxml import etree\n",
    "##from pymdwizard.core.xml_utils import XMLRecord\n",
    "##from pymdwizard.core.xml_utils import XMLNode\n",
    "import re\n",
    "from ipywidgets import *\n",
    "from IPython.display import display\n",
    "from IPython.html.widgets import widgets\n",
    "import datetime\n",
    "import dateutil.parser\n",
    "import time\n",
    "from IPython.display import Javascript"
   ]
  },
  {
   "cell_type": "code",
   "execution_count": 3,
   "metadata": {},
   "outputs": [],
   "source": [
    "#Set Data Paths - perhaps we'll get a user form to do this some day?\n",
    "#Set Input path, Geosoft Database Path of data to be preprocessed\n",
    "dbInDataPath = r\"C:\\CurrentWork\\MRAT\\MT_ID_WY_GeophysicsProcessing\\Mag\" #The 'r' signifies a string literal. Use for paths.\n",
    "# Set Output path, Geosoft Grid Path of data to be preprocessed\n",
    "grdOutDataPath = r\"C:\\ID_WY_MT-Merge\\Geosoft\\Grids\""
   ]
  },
  {
   "cell_type": "code",
   "execution_count": 17,
   "metadata": {},
   "outputs": [
    {
     "name": "stdout",
     "output_type": "stream",
     "text": [
      "id0538.gdb,id3013_new.gdb,ID_0609.gdb,ID_0656.gdb,ID_0657.gdb,ID_0667.gdb,ID_0671.gdb,ID_0709.gdb,ID_3008.gdb,ID_3015A.gdb,MT3021B.gdb,mt3149.gdb,MT_0085A.gdb,MT_0207.gdb,MT_0210.gdb,MT_0556.gdb,MT_0610.gdb,MT_0628.gdb,MT_0653.gdb,MT_0691.gdb,mt_3009.gdb,WY_0508.gdb,WY_0555.gdb,WY_0608.gdb,WY_0670.gdb,\n"
     ]
    },
    {
     "data": {
      "text/plain": [
       "['id0538.gdb',\n",
       " 'id3013_new.gdb',\n",
       " 'ID_0609.gdb',\n",
       " 'ID_0656.gdb',\n",
       " 'ID_0657.gdb',\n",
       " 'ID_0667.gdb',\n",
       " 'ID_0671.gdb',\n",
       " 'ID_0709.gdb',\n",
       " 'ID_3008.gdb',\n",
       " 'ID_3015A.gdb',\n",
       " 'MT3021B.gdb',\n",
       " 'mt3149.gdb',\n",
       " 'MT_0085A.gdb',\n",
       " 'MT_0207.gdb',\n",
       " 'MT_0210.gdb',\n",
       " 'MT_0556.gdb',\n",
       " 'MT_0610.gdb',\n",
       " 'MT_0628.gdb',\n",
       " 'MT_0653.gdb',\n",
       " 'MT_0691.gdb',\n",
       " 'mt_3009.gdb',\n",
       " 'WY_0508.gdb',\n",
       " 'WY_0555.gdb',\n",
       " 'WY_0608.gdb',\n",
       " 'WY_0670.gdb']"
      ]
     },
     "execution_count": 17,
     "metadata": {},
     "output_type": "execute_result"
    }
   ],
   "source": [
    "#Produce directory listing gd files\n",
    "#mtDataDirList = os.walk(mtDataPath)\n",
    "#mtDataDirList = [entry.path for entry in os.scandir(mtDataPath) if entry.is_dir()]\n",
    "#dbInDataList = next(os.walk(dbInDataPath))[1]\n",
    "dbInList = glob.glob(os.path.join(dbInDataPath, '*.gdb'),  recursive=True)\n",
    "#dbInList[1]\n",
    "fileName = []\n",
    "fileListing = ''\n",
    "# Get file name so we can rename the file later\n",
    "for i in range(len(dbInList)):\n",
    "  splitdbInList = dbInList[i].split('\\\\')\n",
    "  fileName.append(splitdbInList[len(splitdbInList) - 1])\n",
    "  #print (txtListFormatted[i])  \n",
    "  fileListing = fileListing + splitdbInList[len(splitdbInList) - 1] + ','\n",
    "print (fileListing)\n",
    "fileName"
   ]
  },
  {
   "cell_type": "code",
   "execution_count": null,
   "metadata": {},
   "outputs": [],
   "source": [
    "## Create editable gs file.  \n",
    "## Example text is created after running this cell\n",
    "## This text is displayed by running \"display(keywords) below\n",
    "gsText = widgets.Textarea(\n",
    "    value='CURRENT        Map,\"c:\\id_wy_mt-merge\\Geosoft\\IdWyMtMerged.map\"\\n' \\\n",
    "    + 'CURRENT        Database,\"' + dbInList[i] + '\"' \\\n",
    "    + 'SETINI         NEWXY.OLDX=\"UTM_X\"' \\\n",
    "    + 'SETINI         NEWXY.OLDY=\"UTM_Y\"' \\\n",
    "    + 'SETINI         NEWXY.USE_INPUT_XY=\"\"' \\\n",
    "    + 'SETINI         NEWXY.OLDX=\"UTM_X\"' \\\n",
    "    + 'SETINI         NEWXY.OLDY=\"UTM_Y\"' \\\n",
    "    + 'SETINI         NEWXY.PROCESS=\"All lines/groups\"' \\\n",
    "    + 'SETINI         IPJSET.S1GCS=\"\\\"WGS 84\\\"\"' \\\n",
    "    + 'SETINI         IPJSET.S2GCS=\"\\\"WGS 84\\\",6378137,0.0818191908426215,0\"' \\\n",
    "    + 'SETINI         IPJSET.S3GCS=\"\"' \\\n",
    "    + 'SETINI         IPJSET.S4GCS=\"dega,1\"' \\\n",
    "    + 'SETINI         IPJSET.S5GCS=\"\\\"WGS 84\\\",0,0,0,0,0,0,0\"' \\\n",
    "    + 'SETINI         IPJSET.S1PCS=\"\\\"NAD27 / UTM zone 12N\\\"\"' \\\n",
    "    + 'SETINI         IPJSET.S2PCS=\"NAD27,6378206.4,0.08227185422,0\"' \\\n",
    "    + 'SETINI         IPJSET.S4PCS=\"m,1\"' \\\n",
    "    + 'SETINI         IPJSET.S5PCS=\"\"' \\    \n",
    "    + 'SETINI         NEWXY.NEWX=\"LonWGS84\"' \\ \n",
    "    + 'SETINI         NEWXY.NEWY=\"LatWGS84\"' \\\n",
    "    + 'SETINI         IPJSET.S1GCS=\"\\\"WGS 84\\\"\"' \\\n",
    "    + 'SETINI         IPJSET.S2GCS=\"\\\"WGS 84\\\",6378137,0.0818191908426215,0\"' \\\n",
    "    + 'SETINI         IPJSET.S3GCS=\"\"' \\\n",
    "    + 'SETINI         IPJSET.S4GCS=\"dega,1\"' \\\n",
    "    + 'SETINI         IPJSET.S5GCS=\"\\\"WGS 84\\\",0,0,0,0,0,0,0\"' \\\n",
    "    + 'SETINI         IPJSET.S1PCS=\"\\\"NAD27 / UTM zone 12N\\\"\"' \\\n",
    "    + 'SETINI         IPJSET.S2PCS=\"NAD27,6378206.4,0.08227185422,0\"' \\\n",
    "    + 'SETINI         IPJSET.S3PCS=\"\\\"Transverse Mercator\\\",0,-111,0.9996,500000,0\"' \\\n",
    "    + 'SETINI         IPJSET.S4PCS=\"m,1\"' \\\n",
    "    + 'SETINI         IPJSET.S5PCS=\"\"' \\\n",
    "    + 'SETINI         NEWXY.OLDIPJ_NAME=\"\\\"NAD27 / UTM zone 12N\\\"\"' \\\n",
    "    + 'SETINI         NEWXY.OLDIPJ_DATUM=\"NAD27,6378206.4,0.08227185422,0\"' \\\n",
    "    + 'SETINI         NEWXY.OLDIPJ_METHOD=\"\\\"Transverse Mercator\\\",0,-111,0.9996,500000,0\"' \\\n",
    "    + 'SETINI         NEWXY.OLDIPJ_UNITS=\"m,1\"' \\\n",
    "    + 'SETINI         NEWXY.OLDIPJ_LOCALDATUM=\"\"' \\\n",
    "    + 'SETINI         NEWXY.NEWIPJ_NAME=\"\\\"WGS 84\\\"\"' \\\n",
    "    + 'SETINI         NEWXY.NEWIPJ_DATUM=\"\\\"WGS 84\\\",6378137,0.0818191908426215,0\"' \\\n",
    "    + 'SETINI         NEWXY.NEWIPJ_METHOD=\"\"' \\\n",
    "    + 'SETINI         NEWXY.NEWIPJ_UNITS=\"dega,1\"' \\\n",
    "    + 'SETINI         NEWXY.NEWIPJ_LOCALDATUM=\"\\\"WGS 84\\\",0,0,0,0,0,0,0\"' \\\n",
    "    + 'SETINI         NEWXY.WARPED=\"No\"' \\\n",
    "    + 'SETINI         NEWXY.TRANSFORM_ACROSS_LOCAL_DATUM=\"No\"' \\\n",
    "    + 'GX             newxy.gx' \\\n",
    "    + 'CURRENT        Map,\"c:\\id_wy_mt-merge\\Geosoft\\IdWyMtMerged.map\"' \\\n",
    "    + 'CURRENT        Database,\"C:\\CurrentWork\\MRAT\\MT_ID_WY_GeophysicsProcessing\\Mag\\WY_0508.gdb\"' \\\n",
    "    + 'SETINI         XYSET.X=\"UTM_X\"' \\\n",
    "    + 'SETINI         XYSET.Y=\"UTM_Y\"' \\\n",
    "    + 'SETINI         XYSET.Z=\"(none)\"' \\\n",
    "    + 'SETINI         XYSET.X=\"LonWGS84\"' \\\n",
    "    + 'SETINI         XYSET.Y=\"LatWGS84\"' \\\n",
    "    + 'SETINI         XYSET.Z=\"(none)\"' \\\n",
    "    + 'GX             xyset.gx' \\\n",
    "    + 'CURRENT        Map,\"c:\\id_wy_mt-merge\\Geosoft\\IdWyMtMerged.map\"' \\\n",
    "    + 'CURRENT        Database,\"' + dbInList[i] + '\"' \\\n",
    "    + 'SETINI         RANGRID.LOCKED=\"0\"' \\\n",
    "    + 'SETINI         RANGRID.RUNMODE=\"0\"' \\\n",
    "    + 'SETINI         RANGRID.CHAN=\"mag\"' \\\n",
    "    + 'SETINI         RANGRID.GRID=\".\\\\WGS84_' + fileName[i] + '(GRD)\"' \\\n",
    "    + 'SETINI         RANGRID.CS=\"\"' \\\n",
    "    + 'GX             rangrid.gx',\n",
    "    placeholder='Type something',\n",
    "    #description='String:',\n",
    "    layout=Layout(width='100%', height='666px'),\n",
    "    disabled=False\n",
    ")"
   ]
  }
 ],
 "metadata": {
  "kernelspec": {
   "display_name": "Python 3",
   "language": "python",
   "name": "python3"
  },
  "language_info": {
   "codemirror_mode": {
    "name": "ipython",
    "version": 3
   },
   "file_extension": ".py",
   "mimetype": "text/x-python",
   "name": "python",
   "nbconvert_exporter": "python",
   "pygments_lexer": "ipython3",
   "version": "3.6.4"
  }
 },
 "nbformat": 4,
 "nbformat_minor": 2
}
